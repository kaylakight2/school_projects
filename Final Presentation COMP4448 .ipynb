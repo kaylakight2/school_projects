{
 "cells": [
  {
   "cell_type": "code",
   "execution_count": 68,
   "id": "1931ee5c",
   "metadata": {},
   "outputs": [],
   "source": [
    "import numpy as np\n",
    "import pandas as pd\n",
    "import sklearn\n",
    "import matplotlib\n",
    "import matplotlib.pyplot as plt\n",
    "from sklearn.naive_bayes import GaussianNB\n",
    "from sklearn.neighbors import KNeighborsClassifier\n",
    "\n",
    "import seaborn\n",
    "from collections import Counter\n",
    "import csv\n",
    "from sklearn.ensemble import RandomForestRegressor\n",
    "\n",
    "from sklearn.preprocessing import MinMaxScaler\n",
    "from sklearn.model_selection import train_test_split\n",
    "from sklearn.tree import DecisionTreeClassifier\n",
    "from sklearn.metrics import accuracy_score\n",
    "from sklearn.metrics import zero_one_loss\n",
    "from sklearn.metrics import classification_report\n",
    "from sklearn.metrics import confusion_matrix\n",
    "from sklearn.metrics import precision_score\n",
    "from sklearn.metrics import recall_score\n",
    "from sklearn.metrics import f1_score\n",
    "import matplotlib.pyplot as plt\n",
    "from sklearn.metrics import plot_roc_curve\n",
    "from sklearn.metrics import plot_confusion_matrix\n",
    "from sklearn.model_selection import GridSearchCV\n",
    "from sklearn.model_selection import cross_val_score\n",
    "from sklearn.model_selection import validation_curve\n",
    "from sklearn.ensemble import RandomForestClassifier\n",
    "import seaborn as sns\n",
    "\n",
    "\n"
   ]
  },
  {
   "cell_type": "code",
   "execution_count": 6,
   "id": "f92d9607",
   "metadata": {},
   "outputs": [],
   "source": [
    "\n",
    "\n",
    "url = \"https://archive.ics.uci.edu/ml/machine-learning-databases/wine-quality/winequality-red.csv\"\n",
    "\n",
    "df = pd.read_csv(url, delimiter=\";\")\n"
   ]
  },
  {
   "cell_type": "code",
   "execution_count": null,
   "id": "82b07fd0",
   "metadata": {},
   "outputs": [],
   "source": []
  },
  {
   "cell_type": "code",
   "execution_count": 7,
   "id": "0c84cf80",
   "metadata": {},
   "outputs": [
    {
     "data": {
      "text/html": [
       "<div>\n",
       "<style scoped>\n",
       "    .dataframe tbody tr th:only-of-type {\n",
       "        vertical-align: middle;\n",
       "    }\n",
       "\n",
       "    .dataframe tbody tr th {\n",
       "        vertical-align: top;\n",
       "    }\n",
       "\n",
       "    .dataframe thead th {\n",
       "        text-align: right;\n",
       "    }\n",
       "</style>\n",
       "<table border=\"1\" class=\"dataframe\">\n",
       "  <thead>\n",
       "    <tr style=\"text-align: right;\">\n",
       "      <th></th>\n",
       "      <th>fixed acidity</th>\n",
       "      <th>volatile acidity</th>\n",
       "      <th>citric acid</th>\n",
       "      <th>residual sugar</th>\n",
       "      <th>chlorides</th>\n",
       "      <th>free sulfur dioxide</th>\n",
       "      <th>total sulfur dioxide</th>\n",
       "      <th>density</th>\n",
       "      <th>pH</th>\n",
       "      <th>sulphates</th>\n",
       "      <th>alcohol</th>\n",
       "      <th>quality</th>\n",
       "    </tr>\n",
       "  </thead>\n",
       "  <tbody>\n",
       "    <tr>\n",
       "      <th>0</th>\n",
       "      <td>7.4</td>\n",
       "      <td>0.70</td>\n",
       "      <td>0.00</td>\n",
       "      <td>1.9</td>\n",
       "      <td>0.076</td>\n",
       "      <td>11.0</td>\n",
       "      <td>34.0</td>\n",
       "      <td>0.9978</td>\n",
       "      <td>3.51</td>\n",
       "      <td>0.56</td>\n",
       "      <td>9.4</td>\n",
       "      <td>5</td>\n",
       "    </tr>\n",
       "    <tr>\n",
       "      <th>1</th>\n",
       "      <td>7.8</td>\n",
       "      <td>0.88</td>\n",
       "      <td>0.00</td>\n",
       "      <td>2.6</td>\n",
       "      <td>0.098</td>\n",
       "      <td>25.0</td>\n",
       "      <td>67.0</td>\n",
       "      <td>0.9968</td>\n",
       "      <td>3.20</td>\n",
       "      <td>0.68</td>\n",
       "      <td>9.8</td>\n",
       "      <td>5</td>\n",
       "    </tr>\n",
       "    <tr>\n",
       "      <th>2</th>\n",
       "      <td>7.8</td>\n",
       "      <td>0.76</td>\n",
       "      <td>0.04</td>\n",
       "      <td>2.3</td>\n",
       "      <td>0.092</td>\n",
       "      <td>15.0</td>\n",
       "      <td>54.0</td>\n",
       "      <td>0.9970</td>\n",
       "      <td>3.26</td>\n",
       "      <td>0.65</td>\n",
       "      <td>9.8</td>\n",
       "      <td>5</td>\n",
       "    </tr>\n",
       "    <tr>\n",
       "      <th>3</th>\n",
       "      <td>11.2</td>\n",
       "      <td>0.28</td>\n",
       "      <td>0.56</td>\n",
       "      <td>1.9</td>\n",
       "      <td>0.075</td>\n",
       "      <td>17.0</td>\n",
       "      <td>60.0</td>\n",
       "      <td>0.9980</td>\n",
       "      <td>3.16</td>\n",
       "      <td>0.58</td>\n",
       "      <td>9.8</td>\n",
       "      <td>6</td>\n",
       "    </tr>\n",
       "    <tr>\n",
       "      <th>4</th>\n",
       "      <td>7.4</td>\n",
       "      <td>0.70</td>\n",
       "      <td>0.00</td>\n",
       "      <td>1.9</td>\n",
       "      <td>0.076</td>\n",
       "      <td>11.0</td>\n",
       "      <td>34.0</td>\n",
       "      <td>0.9978</td>\n",
       "      <td>3.51</td>\n",
       "      <td>0.56</td>\n",
       "      <td>9.4</td>\n",
       "      <td>5</td>\n",
       "    </tr>\n",
       "    <tr>\n",
       "      <th>5</th>\n",
       "      <td>7.4</td>\n",
       "      <td>0.66</td>\n",
       "      <td>0.00</td>\n",
       "      <td>1.8</td>\n",
       "      <td>0.075</td>\n",
       "      <td>13.0</td>\n",
       "      <td>40.0</td>\n",
       "      <td>0.9978</td>\n",
       "      <td>3.51</td>\n",
       "      <td>0.56</td>\n",
       "      <td>9.4</td>\n",
       "      <td>5</td>\n",
       "    </tr>\n",
       "    <tr>\n",
       "      <th>6</th>\n",
       "      <td>7.9</td>\n",
       "      <td>0.60</td>\n",
       "      <td>0.06</td>\n",
       "      <td>1.6</td>\n",
       "      <td>0.069</td>\n",
       "      <td>15.0</td>\n",
       "      <td>59.0</td>\n",
       "      <td>0.9964</td>\n",
       "      <td>3.30</td>\n",
       "      <td>0.46</td>\n",
       "      <td>9.4</td>\n",
       "      <td>5</td>\n",
       "    </tr>\n",
       "    <tr>\n",
       "      <th>7</th>\n",
       "      <td>7.3</td>\n",
       "      <td>0.65</td>\n",
       "      <td>0.00</td>\n",
       "      <td>1.2</td>\n",
       "      <td>0.065</td>\n",
       "      <td>15.0</td>\n",
       "      <td>21.0</td>\n",
       "      <td>0.9946</td>\n",
       "      <td>3.39</td>\n",
       "      <td>0.47</td>\n",
       "      <td>10.0</td>\n",
       "      <td>7</td>\n",
       "    </tr>\n",
       "    <tr>\n",
       "      <th>8</th>\n",
       "      <td>7.8</td>\n",
       "      <td>0.58</td>\n",
       "      <td>0.02</td>\n",
       "      <td>2.0</td>\n",
       "      <td>0.073</td>\n",
       "      <td>9.0</td>\n",
       "      <td>18.0</td>\n",
       "      <td>0.9968</td>\n",
       "      <td>3.36</td>\n",
       "      <td>0.57</td>\n",
       "      <td>9.5</td>\n",
       "      <td>7</td>\n",
       "    </tr>\n",
       "    <tr>\n",
       "      <th>9</th>\n",
       "      <td>7.5</td>\n",
       "      <td>0.50</td>\n",
       "      <td>0.36</td>\n",
       "      <td>6.1</td>\n",
       "      <td>0.071</td>\n",
       "      <td>17.0</td>\n",
       "      <td>102.0</td>\n",
       "      <td>0.9978</td>\n",
       "      <td>3.35</td>\n",
       "      <td>0.80</td>\n",
       "      <td>10.5</td>\n",
       "      <td>5</td>\n",
       "    </tr>\n",
       "  </tbody>\n",
       "</table>\n",
       "</div>"
      ],
      "text/plain": [
       "   fixed acidity  volatile acidity  citric acid  residual sugar  chlorides  \\\n",
       "0            7.4              0.70         0.00             1.9      0.076   \n",
       "1            7.8              0.88         0.00             2.6      0.098   \n",
       "2            7.8              0.76         0.04             2.3      0.092   \n",
       "3           11.2              0.28         0.56             1.9      0.075   \n",
       "4            7.4              0.70         0.00             1.9      0.076   \n",
       "5            7.4              0.66         0.00             1.8      0.075   \n",
       "6            7.9              0.60         0.06             1.6      0.069   \n",
       "7            7.3              0.65         0.00             1.2      0.065   \n",
       "8            7.8              0.58         0.02             2.0      0.073   \n",
       "9            7.5              0.50         0.36             6.1      0.071   \n",
       "\n",
       "   free sulfur dioxide  total sulfur dioxide  density    pH  sulphates  \\\n",
       "0                 11.0                  34.0   0.9978  3.51       0.56   \n",
       "1                 25.0                  67.0   0.9968  3.20       0.68   \n",
       "2                 15.0                  54.0   0.9970  3.26       0.65   \n",
       "3                 17.0                  60.0   0.9980  3.16       0.58   \n",
       "4                 11.0                  34.0   0.9978  3.51       0.56   \n",
       "5                 13.0                  40.0   0.9978  3.51       0.56   \n",
       "6                 15.0                  59.0   0.9964  3.30       0.46   \n",
       "7                 15.0                  21.0   0.9946  3.39       0.47   \n",
       "8                  9.0                  18.0   0.9968  3.36       0.57   \n",
       "9                 17.0                 102.0   0.9978  3.35       0.80   \n",
       "\n",
       "   alcohol  quality  \n",
       "0      9.4        5  \n",
       "1      9.8        5  \n",
       "2      9.8        5  \n",
       "3      9.8        6  \n",
       "4      9.4        5  \n",
       "5      9.4        5  \n",
       "6      9.4        5  \n",
       "7     10.0        7  \n",
       "8      9.5        7  \n",
       "9     10.5        5  "
      ]
     },
     "execution_count": 7,
     "metadata": {},
     "output_type": "execute_result"
    }
   ],
   "source": [
    "df.head(10)"
   ]
  },
  {
   "cell_type": "code",
   "execution_count": 8,
   "id": "56b27109",
   "metadata": {},
   "outputs": [
    {
     "name": "stdout",
     "output_type": "stream",
     "text": [
      "fixed acidity\n",
      "volatile acidity\n",
      "citric acid\n",
      "residual sugar\n",
      "chlorides\n",
      "free sulfur dioxide\n",
      "total sulfur dioxide\n",
      "density\n",
      "pH\n",
      "sulphates\n",
      "alcohol\n",
      "quality\n"
     ]
    }
   ],
   "source": [
    "for col in df.columns:\n",
    "    print(col)"
   ]
  },
  {
   "cell_type": "code",
   "execution_count": 9,
   "id": "eb4d918e",
   "metadata": {},
   "outputs": [
    {
     "name": "stdout",
     "output_type": "stream",
     "text": [
      "fixed acidity           0\n",
      "volatile acidity        0\n",
      "citric acid             0\n",
      "residual sugar          0\n",
      "chlorides               0\n",
      "free sulfur dioxide     0\n",
      "total sulfur dioxide    0\n",
      "density                 0\n",
      "pH                      0\n",
      "sulphates               0\n",
      "alcohol                 0\n",
      "quality                 0\n",
      "dtype: int64\n"
     ]
    }
   ],
   "source": [
    "#Clean the data by dropping null values\n",
    "\n",
    "print(df.isnull().sum())\n",
    "\n",
    "df = df.dropna()"
   ]
  },
  {
   "cell_type": "code",
   "execution_count": 13,
   "id": "931948fa",
   "metadata": {},
   "outputs": [
    {
     "data": {
      "text/html": [
       "<div>\n",
       "<style scoped>\n",
       "    .dataframe tbody tr th:only-of-type {\n",
       "        vertical-align: middle;\n",
       "    }\n",
       "\n",
       "    .dataframe tbody tr th {\n",
       "        vertical-align: top;\n",
       "    }\n",
       "\n",
       "    .dataframe thead th {\n",
       "        text-align: right;\n",
       "    }\n",
       "</style>\n",
       "<table border=\"1\" class=\"dataframe\">\n",
       "  <thead>\n",
       "    <tr style=\"text-align: right;\">\n",
       "      <th></th>\n",
       "      <th>fixed acidity</th>\n",
       "      <th>volatile acidity</th>\n",
       "      <th>citric acid</th>\n",
       "      <th>residual sugar</th>\n",
       "      <th>chlorides</th>\n",
       "      <th>free sulfur dioxide</th>\n",
       "      <th>total sulfur dioxide</th>\n",
       "      <th>density</th>\n",
       "      <th>pH</th>\n",
       "      <th>sulphates</th>\n",
       "      <th>alcohol</th>\n",
       "      <th>quality</th>\n",
       "    </tr>\n",
       "  </thead>\n",
       "  <tbody>\n",
       "    <tr>\n",
       "      <th>0</th>\n",
       "      <td>0.247788</td>\n",
       "      <td>0.397260</td>\n",
       "      <td>0.00</td>\n",
       "      <td>0.068493</td>\n",
       "      <td>0.106845</td>\n",
       "      <td>0.140845</td>\n",
       "      <td>0.098940</td>\n",
       "      <td>0.567548</td>\n",
       "      <td>0.606299</td>\n",
       "      <td>0.137725</td>\n",
       "      <td>0.153846</td>\n",
       "      <td>5</td>\n",
       "    </tr>\n",
       "    <tr>\n",
       "      <th>1</th>\n",
       "      <td>0.283186</td>\n",
       "      <td>0.520548</td>\n",
       "      <td>0.00</td>\n",
       "      <td>0.116438</td>\n",
       "      <td>0.143573</td>\n",
       "      <td>0.338028</td>\n",
       "      <td>0.215548</td>\n",
       "      <td>0.494126</td>\n",
       "      <td>0.362205</td>\n",
       "      <td>0.209581</td>\n",
       "      <td>0.215385</td>\n",
       "      <td>5</td>\n",
       "    </tr>\n",
       "    <tr>\n",
       "      <th>2</th>\n",
       "      <td>0.283186</td>\n",
       "      <td>0.438356</td>\n",
       "      <td>0.04</td>\n",
       "      <td>0.095890</td>\n",
       "      <td>0.133556</td>\n",
       "      <td>0.197183</td>\n",
       "      <td>0.169611</td>\n",
       "      <td>0.508811</td>\n",
       "      <td>0.409449</td>\n",
       "      <td>0.191617</td>\n",
       "      <td>0.215385</td>\n",
       "      <td>5</td>\n",
       "    </tr>\n",
       "    <tr>\n",
       "      <th>3</th>\n",
       "      <td>0.584071</td>\n",
       "      <td>0.109589</td>\n",
       "      <td>0.56</td>\n",
       "      <td>0.068493</td>\n",
       "      <td>0.105175</td>\n",
       "      <td>0.225352</td>\n",
       "      <td>0.190813</td>\n",
       "      <td>0.582232</td>\n",
       "      <td>0.330709</td>\n",
       "      <td>0.149701</td>\n",
       "      <td>0.215385</td>\n",
       "      <td>6</td>\n",
       "    </tr>\n",
       "    <tr>\n",
       "      <th>4</th>\n",
       "      <td>0.247788</td>\n",
       "      <td>0.397260</td>\n",
       "      <td>0.00</td>\n",
       "      <td>0.068493</td>\n",
       "      <td>0.106845</td>\n",
       "      <td>0.140845</td>\n",
       "      <td>0.098940</td>\n",
       "      <td>0.567548</td>\n",
       "      <td>0.606299</td>\n",
       "      <td>0.137725</td>\n",
       "      <td>0.153846</td>\n",
       "      <td>5</td>\n",
       "    </tr>\n",
       "    <tr>\n",
       "      <th>...</th>\n",
       "      <td>...</td>\n",
       "      <td>...</td>\n",
       "      <td>...</td>\n",
       "      <td>...</td>\n",
       "      <td>...</td>\n",
       "      <td>...</td>\n",
       "      <td>...</td>\n",
       "      <td>...</td>\n",
       "      <td>...</td>\n",
       "      <td>...</td>\n",
       "      <td>...</td>\n",
       "      <td>...</td>\n",
       "    </tr>\n",
       "    <tr>\n",
       "      <th>1594</th>\n",
       "      <td>0.141593</td>\n",
       "      <td>0.328767</td>\n",
       "      <td>0.08</td>\n",
       "      <td>0.075342</td>\n",
       "      <td>0.130217</td>\n",
       "      <td>0.436620</td>\n",
       "      <td>0.134276</td>\n",
       "      <td>0.354626</td>\n",
       "      <td>0.559055</td>\n",
       "      <td>0.149701</td>\n",
       "      <td>0.323077</td>\n",
       "      <td>5</td>\n",
       "    </tr>\n",
       "    <tr>\n",
       "      <th>1595</th>\n",
       "      <td>0.115044</td>\n",
       "      <td>0.294521</td>\n",
       "      <td>0.10</td>\n",
       "      <td>0.089041</td>\n",
       "      <td>0.083472</td>\n",
       "      <td>0.535211</td>\n",
       "      <td>0.159011</td>\n",
       "      <td>0.370778</td>\n",
       "      <td>0.614173</td>\n",
       "      <td>0.257485</td>\n",
       "      <td>0.430769</td>\n",
       "      <td>6</td>\n",
       "    </tr>\n",
       "    <tr>\n",
       "      <th>1596</th>\n",
       "      <td>0.150442</td>\n",
       "      <td>0.267123</td>\n",
       "      <td>0.13</td>\n",
       "      <td>0.095890</td>\n",
       "      <td>0.106845</td>\n",
       "      <td>0.394366</td>\n",
       "      <td>0.120141</td>\n",
       "      <td>0.416300</td>\n",
       "      <td>0.535433</td>\n",
       "      <td>0.251497</td>\n",
       "      <td>0.400000</td>\n",
       "      <td>6</td>\n",
       "    </tr>\n",
       "    <tr>\n",
       "      <th>1597</th>\n",
       "      <td>0.115044</td>\n",
       "      <td>0.359589</td>\n",
       "      <td>0.12</td>\n",
       "      <td>0.075342</td>\n",
       "      <td>0.105175</td>\n",
       "      <td>0.436620</td>\n",
       "      <td>0.134276</td>\n",
       "      <td>0.396476</td>\n",
       "      <td>0.653543</td>\n",
       "      <td>0.227545</td>\n",
       "      <td>0.276923</td>\n",
       "      <td>5</td>\n",
       "    </tr>\n",
       "    <tr>\n",
       "      <th>1598</th>\n",
       "      <td>0.123894</td>\n",
       "      <td>0.130137</td>\n",
       "      <td>0.47</td>\n",
       "      <td>0.184932</td>\n",
       "      <td>0.091820</td>\n",
       "      <td>0.239437</td>\n",
       "      <td>0.127208</td>\n",
       "      <td>0.397944</td>\n",
       "      <td>0.511811</td>\n",
       "      <td>0.197605</td>\n",
       "      <td>0.400000</td>\n",
       "      <td>6</td>\n",
       "    </tr>\n",
       "  </tbody>\n",
       "</table>\n",
       "<p>1599 rows × 12 columns</p>\n",
       "</div>"
      ],
      "text/plain": [
       "      fixed acidity  volatile acidity  citric acid  residual sugar  chlorides  \\\n",
       "0          0.247788          0.397260         0.00        0.068493   0.106845   \n",
       "1          0.283186          0.520548         0.00        0.116438   0.143573   \n",
       "2          0.283186          0.438356         0.04        0.095890   0.133556   \n",
       "3          0.584071          0.109589         0.56        0.068493   0.105175   \n",
       "4          0.247788          0.397260         0.00        0.068493   0.106845   \n",
       "...             ...               ...          ...             ...        ...   \n",
       "1594       0.141593          0.328767         0.08        0.075342   0.130217   \n",
       "1595       0.115044          0.294521         0.10        0.089041   0.083472   \n",
       "1596       0.150442          0.267123         0.13        0.095890   0.106845   \n",
       "1597       0.115044          0.359589         0.12        0.075342   0.105175   \n",
       "1598       0.123894          0.130137         0.47        0.184932   0.091820   \n",
       "\n",
       "      free sulfur dioxide  total sulfur dioxide   density        pH  \\\n",
       "0                0.140845              0.098940  0.567548  0.606299   \n",
       "1                0.338028              0.215548  0.494126  0.362205   \n",
       "2                0.197183              0.169611  0.508811  0.409449   \n",
       "3                0.225352              0.190813  0.582232  0.330709   \n",
       "4                0.140845              0.098940  0.567548  0.606299   \n",
       "...                   ...                   ...       ...       ...   \n",
       "1594             0.436620              0.134276  0.354626  0.559055   \n",
       "1595             0.535211              0.159011  0.370778  0.614173   \n",
       "1596             0.394366              0.120141  0.416300  0.535433   \n",
       "1597             0.436620              0.134276  0.396476  0.653543   \n",
       "1598             0.239437              0.127208  0.397944  0.511811   \n",
       "\n",
       "      sulphates   alcohol  quality  \n",
       "0      0.137725  0.153846        5  \n",
       "1      0.209581  0.215385        5  \n",
       "2      0.191617  0.215385        5  \n",
       "3      0.149701  0.215385        6  \n",
       "4      0.137725  0.153846        5  \n",
       "...         ...       ...      ...  \n",
       "1594   0.149701  0.323077        5  \n",
       "1595   0.257485  0.430769        6  \n",
       "1596   0.251497  0.400000        6  \n",
       "1597   0.227545  0.276923        5  \n",
       "1598   0.197605  0.400000        6  \n",
       "\n",
       "[1599 rows x 12 columns]"
      ]
     },
     "execution_count": 13,
     "metadata": {},
     "output_type": "execute_result"
    }
   ],
   "source": [
    "df_cont = df[['fixed acidity', 'volatile acidity', 'citric acid', 'residual sugar', 'chlorides', 'free sulfur dioxide', 'total sulfur dioxide', 'density', 'pH', 'sulphates', 'alcohol']]\n",
    "\n",
    "df_cat = df[['quality']]\n",
    "\n",
    "scaler = MinMaxScaler()\n",
    "\n",
    "df_cont_norm = pd.DataFrame(scaler.fit_transform(df_cont), columns=df_cont.columns)\n",
    "\n",
    "df_norm = pd.concat([df_cont_norm, df_cat], axis=1)\n",
    "\n",
    "df_norm"
   ]
  },
  {
   "cell_type": "code",
   "execution_count": null,
   "id": "2f903972",
   "metadata": {},
   "outputs": [],
   "source": [
    "# check for outliers "
   ]
  },
  {
   "cell_type": "code",
   "execution_count": 22,
   "id": "7670dee1",
   "metadata": {},
   "outputs": [
    {
     "data": {
      "image/png": "[encoded data removed]",
      "text/plain": [
       "<Figure size 432x288 with 1 Axes>"
      ]
     },
     "metadata": {
      "needs_background": "light"
     },
     "output_type": "display_data"
    },
    {
     "data": {
      "image/png": "[encoded data removed]",
      "text/plain": [
       "<Figure size 432x288 with 1 Axes>"
      ]
     },
     "metadata": {
      "needs_background": "light"
     },
     "output_type": "display_data"
    },
    {
     "data": {
      "image/png": "[encoded data removed]",
      "text/plain": [
       "<Figure size 432x288 with 1 Axes>"
      ]
     },
     "metadata": {
      "needs_background": "light"
     },
     "output_type": "display_data"
    },
    {
     "data": {
      "image/png": "[encoded data removed]",
      "text/plain": [
       "<Figure size 432x288 with 1 Axes>"
      ]
     },
     "metadata": {
      "needs_background": "light"
     },
     "output_type": "display_data"
    },
    {
     "data": {
      "image/png": "[encoded data removed]",
      "text/plain": [
       "<Figure size 432x288 with 1 Axes>"
      ]
     },
     "metadata": {
      "needs_background": "light"
     },
     "output_type": "display_data"
    },
    {
     "data": {
      "image/png": "[encoded data removed]",
      "text/plain": [
       "<Figure size 432x288 with 1 Axes>"
      ]
     },
     "metadata": {
      "needs_background": "light"
     },
     "output_type": "display_data"
    },
    {
     "data": {
      "image/png": "[encoded data removed]",
      "text/plain": [
       "<Figure size 432x288 with 1 Axes>"
      ]
     },
     "metadata": {
      "needs_background": "light"
     },
     "output_type": "display_data"
    },
    {
     "data": {
      "image/png": "[encoded data removed]",
      "text/plain": [
       "<Figure size 432x288 with 1 Axes>"
      ]
     },
     "metadata": {
      "needs_background": "light"
     },
     "output_type": "display_data"
    },
    {
     "data": {
      "image/png": "[encoded data removed]",
      "text/plain": [
       "<Figure size 432x288 with 1 Axes>"
      ]
     },
     "metadata": {
      "needs_background": "light"
     },
     "output_type": "display_data"
    },
    {
     "data": {
      "image/png": "[encoded data removed]",
      "text/plain": [
       "<Figure size 432x288 with 1 Axes>"
      ]
     },
     "metadata": {
      "needs_background": "light"
     },
     "output_type": "display_data"
    },
    {
     "data": {
      "image/png": "[encoded data removed]",
      "text/plain": [
       "<Figure size 432x288 with 1 Axes>"
      ]
     },
     "metadata": {
      "needs_background": "light"
     },
     "output_type": "display_data"
    }
   ],
   "source": [
    "for column in df_cont.columns:\n",
    "    plt.figure()\n",
    "    plt.boxplot(df_cont[column])\n",
    "    plt.title(column)\n",
    "    plt.show()"
   ]
  },
  {
   "cell_type": "code",
   "execution_count": 73,
   "id": "f58a1f94",
   "metadata": {
    "scrolled": false
   },
   "outputs": [
    {
     "data": {
      "text/plain": [
       "<AxesSubplot:xlabel='quality', ylabel='alcohol'>"
      ]
     },
     "execution_count": 73,
     "metadata": {},
     "output_type": "execute_result"
    },
    {
     "data": {
      "image/png": "[encoded data removed]",
      "text/plain": [
       "<Figure size 432x288 with 1 Axes>"
      ]
     },
     "metadata": {
      "needs_background": "light"
     },
     "output_type": "display_data"
    }
   ],
   "source": [
    "sns.scatterplot(x='quality', y='alcohol', data=df_norm)\n"
   ]
  },
  {
   "cell_type": "markdown",
   "id": "410af5a0",
   "metadata": {},
   "source": [
    "To explore the distribution of the data, we will use histograms. We will create histograms for each variable in df_norm"
   ]
  },
  {
   "cell_type": "code",
   "execution_count": 23,
   "id": "927fc19b",
   "metadata": {},
   "outputs": [
    {
     "data": {
      "image/png": "[encoded data removed]",
      "text/plain": [
       "<Figure size 432x288 with 1 Axes>"
      ]
     },
     "metadata": {
      "needs_background": "light"
     },
     "output_type": "display_data"
    },
    {
     "data": {
      "image/png": "[encoded data removed]",
      "text/plain": [
       "<Figure size 432x288 with 1 Axes>"
      ]
     },
     "metadata": {
      "needs_background": "light"
     },
     "output_type": "display_data"
    },
    {
     "data": {
      "image/png": "[encoded data removed]",
      "text/plain": [
       "<Figure size 432x288 with 1 Axes>"
      ]
     },
     "metadata": {
      "needs_background": "light"
     },
     "output_type": "display_data"
    },
    {
     "data": {
      "image/png": "[encoded data removed]",
      "text/plain": [
       "<Figure size 432x288 with 1 Axes>"
      ]
     },
     "metadata": {
      "needs_background": "light"
     },
     "output_type": "display_data"
    },
    {
     "data": {
      "image/png": "[encoded data removed]",
      "text/plain": [
       "<Figure size 432x288 with 1 Axes>"
      ]
     },
     "metadata": {
      "needs_background": "light"
     },
     "output_type": "display_data"
    },
    {
     "data": {
      "image/png": "[encoded data removed]",
      "text/plain": [
       "<Figure size 432x288 with 1 Axes>"
      ]
     },
     "metadata": {
      "needs_background": "light"
     },
     "output_type": "display_data"
    },
    {
     "data": {
      "image/png": "[encoded data removed]",
      "text/plain": [
       "<Figure size 432x288 with 1 Axes>"
      ]
     },
     "metadata": {
      "needs_background": "light"
     },
     "output_type": "display_data"
    },
    {
     "data": {
      "image/png": "[encoded data removed]",
      "text/plain": [
       "<Figure size 432x288 with 1 Axes>"
      ]
     },
     "metadata": {
      "needs_background": "light"
     },
     "output_type": "display_data"
    },
    {
     "data": {
      "image/png": "[encoded data removed]",
      "text/plain": [
       "<Figure size 432x288 with 1 Axes>"
      ]
     },
     "metadata": {
      "needs_background": "light"
     },
     "output_type": "display_data"
    },
    {
     "data": {
      "image/png": "[encoded data removed]",
      "text/plain": [
       "<Figure size 432x288 with 1 Axes>"
      ]
     },
     "metadata": {
      "needs_background": "light"
     },
     "output_type": "display_data"
    },
    {
     "data": {
      "image/png": "[encoded data removed]",
      "text/plain": [
       "<Figure size 432x288 with 1 Axes>"
      ]
     },
     "metadata": {
      "needs_background": "light"
     },
     "output_type": "display_data"
    }
   ],
   "source": [
    "# Create histograms for each variable\n",
    "for column in df_norm.columns[:-1]:\n",
    "    plt.figure()\n",
    "    plt.hist(df_norm[column], bins=20)\n",
    "    plt.title(column)\n",
    "    plt.show()"
   ]
  },
  {
   "cell_type": "markdown",
   "id": "f5d7a002",
   "metadata": {},
   "source": [
    "Next as a part of our data exploration we will check for correlation. We will identfy if there is any correlation between the input variables and output variable"
   ]
  },
  {
   "cell_type": "code",
   "execution_count": 24,
   "id": "1fcf2978",
   "metadata": {},
   "outputs": [
    {
     "data": {
      "image/png": "[encoded data removed]",
      "text/plain": [
       "<Figure size 432x288 with 1 Axes>"
      ]
     },
     "metadata": {
      "needs_background": "light"
     },
     "output_type": "display_data"
    }
   ],
   "source": [
    "\n",
    "# Create a scatter plot of 'alcohol' vs. 'quality'\n",
    "plt.scatter(df_norm['alcohol'], df_norm['quality'])\n",
    "plt.xlabel('Alcohol')\n",
    "plt.ylabel('Quality')\n",
    "plt.title('Scatter Plot of Alcohol vs. Quality')\n",
    "plt.show()"
   ]
  },
  {
   "cell_type": "code",
   "execution_count": 25,
   "id": "b4d107b0",
   "metadata": {},
   "outputs": [
    {
     "data": {
      "image/png": "[encoded data removed]",
      "text/plain": [
       "<Figure size 432x288 with 1 Axes>"
      ]
     },
     "metadata": {
      "needs_background": "light"
     },
     "output_type": "display_data"
    }
   ],
   "source": [
    "# Create a scatter plot of 'alcohol' vs. 'quality'\n",
    "plt.scatter(df_norm['pH'], df_norm['quality'])\n",
    "plt.xlabel('pH')\n",
    "plt.ylabel('Quality')\n",
    "plt.title('Scatter Plot of pH vs. Quality')\n",
    "plt.show()"
   ]
  },
  {
   "cell_type": "code",
   "execution_count": 26,
   "id": "ef928c8b",
   "metadata": {},
   "outputs": [
    {
     "data": {
      "image/png": "[encoded data removed]",
      "text/plain": [
       "<Figure size 432x288 with 2 Axes>"
      ]
     },
     "metadata": {
      "needs_background": "light"
     },
     "output_type": "display_data"
    }
   ],
   "source": [
    "# Create a correlation matrix for df_norm\n",
    "corr_matrix = df_norm.corr()\n",
    "\n",
    "# Plot the correlation matrix as a heatmap\n",
    "sns.heatmap(corr_matrix, cmap='coolwarm', annot=True)\n",
    "plt.title('Correlation Matrix')\n",
    "plt.show()"
   ]
  },
  {
   "cell_type": "markdown",
   "id": "98d3799c",
   "metadata": {},
   "source": [
    "Evaluate Feature Importance - we can use feature importance to determine which input variables have the greatest impact on the output variable which can help us identify which is most important to include in the decision tree model"
   ]
  },
  {
   "cell_type": "code",
   "execution_count": 28,
   "id": "bc939b8d",
   "metadata": {
    "scrolled": true
   },
   "outputs": [
    {
     "data": {
      "image/png": "[encoded data removed]",
      "text/plain": [
       "<Figure size 432x288 with 1 Axes>"
      ]
     },
     "metadata": {
      "needs_background": "light"
     },
     "output_type": "display_data"
    }
   ],
   "source": [
    "# Split the data set into training and test sets\n",
    "X = df_norm.iloc[:, :-1] # all other properties\n",
    "y = df_norm.iloc[:, -1] # wine quality\n",
    "\n",
    "X_train, X_test, y_train, y_test = train_test_split(X, y, test_size=0.2, random_state=42)\n",
    "\n",
    "# Fit a random forest model to the training data\n",
    "rf_model = RandomForestRegressor(n_estimators=100, random_state=42)\n",
    "rf_model.fit(X_train, y_train)\n",
    "\n",
    "# Evaluate the feature importance\n",
    "importance = rf_model.feature_importances_\n",
    "features = X_train.columns\n",
    "sorted_idx = importance.argsort()\n",
    "\n",
    "plt.barh(range(len(importance)), importance[sorted_idx])\n",
    "plt.yticks(range(len(importance)), [features[i] for i in sorted_idx])\n",
    "plt.xlabel('Importance')\n",
    "plt.title('Feature Importance')\n",
    "plt.show()"
   ]
  },
  {
   "cell_type": "markdown",
   "id": "cd6f5047",
   "metadata": {},
   "source": [
    "Now we'll build our decision tree model"
   ]
  },
  {
   "cell_type": "code",
   "execution_count": 32,
   "id": "4db405c6",
   "metadata": {},
   "outputs": [
    {
     "name": "stdout",
     "output_type": "stream",
     "text": [
      "              precision    recall  f1-score   support\n",
      "\n",
      "           3       0.00      0.00      0.00         1\n",
      "           4       0.11      0.10      0.11        10\n",
      "           5       0.66      0.69      0.67       130\n",
      "           6       0.57      0.55      0.56       132\n",
      "           7       0.50      0.50      0.50        42\n",
      "           8       0.20      0.20      0.20         5\n",
      "\n",
      "    accuracy                           0.58       320\n",
      "   macro avg       0.34      0.34      0.34       320\n",
      "weighted avg       0.57      0.58      0.58       320\n",
      "\n"
     ]
    }
   ],
   "source": [
    "\n",
    "# Split the data set into training and test sets\n",
    "X = df_norm.iloc[:, :-1]\n",
    "y = df_norm.iloc[:, -1]\n",
    "\n",
    "X_train, X_test, y_train, y_test = train_test_split(X, y, test_size=0.2, random_state=42)\n",
    "\n",
    "dt = DecisionTreeClassifier()\n",
    "\n",
    "# Fit a decision tree model to the training data\n",
    "dt.fit(X_train, y_train)\n",
    "\n",
    "# Make predictions on the test data\n",
    "y_pred = dt.predict(X_test)\n",
    "\n",
    "# Evaluate the model\n",
    "print(classification_report(y_test, y_pred))"
   ]
  },
  {
   "cell_type": "markdown",
   "id": "115213a4",
   "metadata": {},
   "source": [
    "The accuracy of the model is 0.56, which means that the model correctly predicted the class of 56% of the samples in the test data set. The macro average and weighted average of the evaluation metrics are also reported, which provide a summary of the overall performance of the model across all classes. The macro average is the unweighted average of the evaluation metrics for each class, while the weighted average is the average weighted by the support for each class.\n",
    "\n",
    "In this case, the results show that the model performs poorly for some classes, such as the \"3\" and \"4\" classes, while performing relatively well for the \"5\" and \"6\" classes. The results suggest that the decision tree model may need further refinement or tuning to improve its performance."
   ]
  },
  {
   "cell_type": "code",
   "execution_count": 31,
   "id": "d5744028",
   "metadata": {},
   "outputs": [
    {
     "name": "stdout",
     "output_type": "stream",
     "text": [
      "Shape X_train: (1279, 11)\n",
      "Shape y_train: (1279,)\n",
      "Shape X_test: (320, 11)\n",
      "Shape y_test: (320,)\n"
     ]
    }
   ],
   "source": [
    "print(\"Shape X_train:\", X_train.shape)\n",
    "print(\"Shape y_train:\", y_train.shape)\n",
    "print(\"Shape X_test:\", X_test.shape)\n",
    "print(\"Shape y_test:\", y_test.shape)"
   ]
  },
  {
   "cell_type": "code",
   "execution_count": 33,
   "id": "6ea89336",
   "metadata": {
    "scrolled": true
   },
   "outputs": [
    {
     "name": "stdout",
     "output_type": "stream",
     "text": [
      "First 100 predictions for the training set: [6 6 6 5 5 5 6 6 6 6 4 7 6 6 6 5 6 7 5 5 6 7 5 5 6 5 6 5 6 5 5 6 5 6 6 6 5\n",
      " 6 4 5 4 5 5 6 5 6 6 5 5 5 5 5 6 5 6 6 6 5 5 6 5 5 6 6 6 7 6 5 5 6 6 5 5 6\n",
      " 7 6 5 6 5 7 5 5 7 5 6 7 7 6 6 5 6 6 7 6 5 7 6 6 6 5]\n",
      "First 100 predictions for the test set: [5 4 6 4 6 5 5 5 6 6 7 6 6 5 5 6 6 6 7 5 5 6 6 6 6 6 6 6 5 6 6 6 6 5 6 6 6\n",
      " 6 5 6 5 5 6 5 6 6 6 5 5 6 5 6 6 7 5 6 6 5 6 5 6 5 6 5 7 4 6 5 7 5 6 5 5 5\n",
      " 6 5 8 5 5 7 5 7 5 6 7 7 5 6 6 5 7 5 5 5 5 5 5 6 5 5]\n"
     ]
    }
   ],
   "source": [
    "y_train_pred = dt.predict(X_train)\n",
    "y_test_pred = dt.predict(X_test)\n",
    "\n",
    "print(\"First 100 predictions for the training set:\", y_train_pred[:100])\n",
    "print(\"First 100 predictions for the test set:\", y_test_pred[:100])"
   ]
  },
  {
   "cell_type": "markdown",
   "id": "6ff6665b",
   "metadata": {},
   "source": [
    "Find the overall accuracy of the tree model on the training set and on the test set. Use the\n",
    "accuracy_score() function in the sklearn.metrics module"
   ]
  },
  {
   "cell_type": "code",
   "execution_count": 34,
   "id": "b2aca953",
   "metadata": {},
   "outputs": [
    {
     "data": {
      "text/plain": [
       "1.0"
      ]
     },
     "execution_count": 34,
     "metadata": {},
     "output_type": "execute_result"
    }
   ],
   "source": [
    "accuracy_score(y_train, y_train_pred)"
   ]
  },
  {
   "cell_type": "code",
   "execution_count": 35,
   "id": "980c3ae4",
   "metadata": {},
   "outputs": [
    {
     "data": {
      "text/plain": [
       "0.578125"
      ]
     },
     "execution_count": 35,
     "metadata": {},
     "output_type": "execute_result"
    }
   ],
   "source": [
    "accuracy_score(y_test, y_test_pred)"
   ]
  },
  {
   "cell_type": "markdown",
   "id": "5e599a22",
   "metadata": {},
   "source": [
    "An accuracy score of 1.0 on the training set (accuracy_score(y_train, y_train_pred) = 1.0) means that the model predicted the correct class for all samples in the training set. This indicates that the model may have overfit to the training set, meaning that it learned to recognize the specific samples in the training set rather than generalizing to new data.\n",
    "\n",
    "An accuracy score of 0.578125 on the test set (accuracy_score(y_test, y_test_pred) = 0.578125) means that the model correctly predicted the class of 57.81% of the samples in the test set. This is slightly better than the accuracy reported in the classification_report() function in the previous question. However, the accuracy score is still relatively low, which suggests that the decision tree model may not be the best algorithm for this particular problem. "
   ]
  },
  {
   "cell_type": "code",
   "execution_count": 51,
   "id": "2c55f640",
   "metadata": {},
   "outputs": [
    {
     "name": "stdout",
     "output_type": "stream",
     "text": [
      "Train Error: 0.0\n",
      "Test Error: 0.421875\n"
     ]
    }
   ],
   "source": [
    "train_error = zero_one_loss(y_train, y_train_pred)\n",
    "print(\"Train Error:\", train_error)\n",
    "test_error = zero_one_loss(y_test, y_test_pred)\n",
    "print(\"Test Error:\", test_error)\n"
   ]
  },
  {
   "cell_type": "markdown",
   "id": "da0d3c53",
   "metadata": {},
   "source": [
    "The train error and test error values indicate the performance of the decision tree model on the training and testing data sets, respectively.\n",
    "\n",
    "A train error of 0.0 means that the model predicted the target variable correctly for all instances in the training data set. However, a train error of 0.0 could also indicate overfitting, where the model has learned the training data too well and may not generalize well to new data.\n",
    "\n",
    "A test error of 0.421875 means that the model predicted the target variable incorrectly for about 42% of the instances in the testing data set. This value is relatively high, indicating that the decision tree model may not be the best algorithm for predicting the wine quality based on the given features.\n",
    "\n",
    "It is important to note that the train error and test error values should not be the only metrics used to evaluate the performance of the decision tree model. Other metrics, such as precision, recall, and F1-score, should also be considered to get a comprehensive evaluation of the model's performance."
   ]
  },
  {
   "cell_type": "code",
   "execution_count": 40,
   "id": "481aae5b",
   "metadata": {
    "scrolled": false
   },
   "outputs": [
    {
     "data": {
      "text/html": [
       "<div>\n",
       "<style scoped>\n",
       "    .dataframe tbody tr th:only-of-type {\n",
       "        vertical-align: middle;\n",
       "    }\n",
       "\n",
       "    .dataframe tbody tr th {\n",
       "        vertical-align: top;\n",
       "    }\n",
       "\n",
       "    .dataframe thead th {\n",
       "        text-align: right;\n",
       "    }\n",
       "</style>\n",
       "<table border=\"1\" class=\"dataframe\">\n",
       "  <thead>\n",
       "    <tr style=\"text-align: right;\">\n",
       "      <th></th>\n",
       "      <th>3</th>\n",
       "      <th>4</th>\n",
       "      <th>5</th>\n",
       "      <th>6</th>\n",
       "      <th>7</th>\n",
       "      <th>8</th>\n",
       "      <th>accuracy</th>\n",
       "      <th>macro avg</th>\n",
       "      <th>weighted avg</th>\n",
       "    </tr>\n",
       "  </thead>\n",
       "  <tbody>\n",
       "    <tr>\n",
       "      <th>precision</th>\n",
       "      <td>0.0</td>\n",
       "      <td>0.111111</td>\n",
       "      <td>0.656934</td>\n",
       "      <td>0.571429</td>\n",
       "      <td>0.5</td>\n",
       "      <td>0.2</td>\n",
       "      <td>0.578125</td>\n",
       "      <td>0.339912</td>\n",
       "      <td>0.574816</td>\n",
       "    </tr>\n",
       "    <tr>\n",
       "      <th>recall</th>\n",
       "      <td>0.0</td>\n",
       "      <td>0.100000</td>\n",
       "      <td>0.692308</td>\n",
       "      <td>0.545455</td>\n",
       "      <td>0.5</td>\n",
       "      <td>0.2</td>\n",
       "      <td>0.578125</td>\n",
       "      <td>0.339627</td>\n",
       "      <td>0.578125</td>\n",
       "    </tr>\n",
       "    <tr>\n",
       "      <th>f1-score</th>\n",
       "      <td>0.0</td>\n",
       "      <td>0.105263</td>\n",
       "      <td>0.674157</td>\n",
       "      <td>0.558140</td>\n",
       "      <td>0.5</td>\n",
       "      <td>0.2</td>\n",
       "      <td>0.578125</td>\n",
       "      <td>0.339593</td>\n",
       "      <td>0.576148</td>\n",
       "    </tr>\n",
       "    <tr>\n",
       "      <th>support</th>\n",
       "      <td>1.0</td>\n",
       "      <td>10.000000</td>\n",
       "      <td>130.000000</td>\n",
       "      <td>132.000000</td>\n",
       "      <td>42.0</td>\n",
       "      <td>5.0</td>\n",
       "      <td>0.578125</td>\n",
       "      <td>320.000000</td>\n",
       "      <td>320.000000</td>\n",
       "    </tr>\n",
       "  </tbody>\n",
       "</table>\n",
       "</div>"
      ],
      "text/plain": [
       "             3          4           5           6     7    8  accuracy  \\\n",
       "precision  0.0   0.111111    0.656934    0.571429   0.5  0.2  0.578125   \n",
       "recall     0.0   0.100000    0.692308    0.545455   0.5  0.2  0.578125   \n",
       "f1-score   0.0   0.105263    0.674157    0.558140   0.5  0.2  0.578125   \n",
       "support    1.0  10.000000  130.000000  132.000000  42.0  5.0  0.578125   \n",
       "\n",
       "            macro avg  weighted avg  \n",
       "precision    0.339912      0.574816  \n",
       "recall       0.339627      0.578125  \n",
       "f1-score     0.339593      0.576148  \n",
       "support    320.000000    320.000000  "
      ]
     },
     "execution_count": 40,
     "metadata": {},
     "output_type": "execute_result"
    }
   ],
   "source": [
    "pd.DataFrame(classification_report(y_test, y_test_pred, output_dict= True))"
   ]
  },
  {
   "cell_type": "markdown",
   "id": "ac9b7245",
   "metadata": {},
   "source": [
    "These results are the evaluation metrics of the decision tree model on the test data set, as returned by the classification_report() function in a pandas DataFrame format. The evaluation metrics include precision, recall, and f1-score for each class in the output variable. The accuracy and the macro average and weighted average of the evaluation metrics for the entire model are also included.\n",
    "\n",
    "The precision, recall, and f1-score are calculated for each class separately. For example, in the \"3\" class, the precision, recall, and f1-score are all 0, meaning that the model did not correctly predict any samples in this class.\n",
    "\n",
    "The \"accuracy\" row shows the accuracy of the model on the test data set, which is 0.578125. This means that the model correctly predicted the class of 57.81% of the samples in the test data set.\n",
    "\n",
    "The \"macro avg\" row shows the unweighted average of the evaluation metrics across all classes. The \"weighted avg\" row shows the weighted average of the evaluation metrics across all classes, weighted by the support for each class.\n",
    "\n",
    "In this case, the results show that the model performs poorly for some classes, such as the \"3\" and \"4\" classes, while performing relatively well for the \"5\" and \"6\" classes. The results suggest that the decision tree model may need further refinement or tuning to improve its performance."
   ]
  },
  {
   "cell_type": "code",
   "execution_count": 41,
   "id": "c21b73e4",
   "metadata": {},
   "outputs": [
    {
     "data": {
      "text/html": [
       "<div>\n",
       "<style scoped>\n",
       "    .dataframe tbody tr th:only-of-type {\n",
       "        vertical-align: middle;\n",
       "    }\n",
       "\n",
       "    .dataframe tbody tr th {\n",
       "        vertical-align: top;\n",
       "    }\n",
       "\n",
       "    .dataframe thead th {\n",
       "        text-align: right;\n",
       "    }\n",
       "</style>\n",
       "<table border=\"1\" class=\"dataframe\">\n",
       "  <thead>\n",
       "    <tr style=\"text-align: right;\">\n",
       "      <th></th>\n",
       "      <th>3</th>\n",
       "      <th>4</th>\n",
       "      <th>5</th>\n",
       "      <th>6</th>\n",
       "      <th>7</th>\n",
       "      <th>8</th>\n",
       "      <th>accuracy</th>\n",
       "      <th>macro avg</th>\n",
       "      <th>weighted avg</th>\n",
       "    </tr>\n",
       "  </thead>\n",
       "  <tbody>\n",
       "    <tr>\n",
       "      <th>precision</th>\n",
       "      <td>1.0</td>\n",
       "      <td>1.0</td>\n",
       "      <td>1.0</td>\n",
       "      <td>1.0</td>\n",
       "      <td>1.0</td>\n",
       "      <td>1.0</td>\n",
       "      <td>1.0</td>\n",
       "      <td>1.0</td>\n",
       "      <td>1.0</td>\n",
       "    </tr>\n",
       "    <tr>\n",
       "      <th>recall</th>\n",
       "      <td>1.0</td>\n",
       "      <td>1.0</td>\n",
       "      <td>1.0</td>\n",
       "      <td>1.0</td>\n",
       "      <td>1.0</td>\n",
       "      <td>1.0</td>\n",
       "      <td>1.0</td>\n",
       "      <td>1.0</td>\n",
       "      <td>1.0</td>\n",
       "    </tr>\n",
       "    <tr>\n",
       "      <th>f1-score</th>\n",
       "      <td>1.0</td>\n",
       "      <td>1.0</td>\n",
       "      <td>1.0</td>\n",
       "      <td>1.0</td>\n",
       "      <td>1.0</td>\n",
       "      <td>1.0</td>\n",
       "      <td>1.0</td>\n",
       "      <td>1.0</td>\n",
       "      <td>1.0</td>\n",
       "    </tr>\n",
       "    <tr>\n",
       "      <th>support</th>\n",
       "      <td>9.0</td>\n",
       "      <td>43.0</td>\n",
       "      <td>551.0</td>\n",
       "      <td>506.0</td>\n",
       "      <td>157.0</td>\n",
       "      <td>13.0</td>\n",
       "      <td>1.0</td>\n",
       "      <td>1279.0</td>\n",
       "      <td>1279.0</td>\n",
       "    </tr>\n",
       "  </tbody>\n",
       "</table>\n",
       "</div>"
      ],
      "text/plain": [
       "             3     4      5      6      7     8  accuracy  macro avg  \\\n",
       "precision  1.0   1.0    1.0    1.0    1.0   1.0       1.0        1.0   \n",
       "recall     1.0   1.0    1.0    1.0    1.0   1.0       1.0        1.0   \n",
       "f1-score   1.0   1.0    1.0    1.0    1.0   1.0       1.0        1.0   \n",
       "support    9.0  43.0  551.0  506.0  157.0  13.0       1.0     1279.0   \n",
       "\n",
       "           weighted avg  \n",
       "precision           1.0  \n",
       "recall              1.0  \n",
       "f1-score            1.0  \n",
       "support          1279.0  "
      ]
     },
     "execution_count": 41,
     "metadata": {},
     "output_type": "execute_result"
    }
   ],
   "source": [
    "pd.DataFrame(classification_report(y_train, y_train_pred, output_dict= True))"
   ]
  },
  {
   "cell_type": "markdown",
   "id": "03ed99d3",
   "metadata": {},
   "source": [
    "These results are the evaluation metrics of the decision tree model on the training data set, as returned by the classification_report() function in a pandas DataFrame format. The evaluation metrics include precision, recall, and f1-score for each class in the output variable. The accuracy and the macro average and weighted average of the evaluation metrics for the entire model are also included.\n",
    "\n",
    "The precision, recall, and f1-score are calculated for each class separately. For all classes, the precision, recall, and f1-score are all 1.0, indicating that the model correctly predicted the class of all samples in the training data set.\n",
    "\n",
    "The \"accuracy\" row shows the accuracy of the model on the training data set, which is 1.0. This means that the model correctly predicted the class of all samples in the training data set.\n",
    "\n",
    "The \"macro avg\" row shows the unweighted average of the evaluation metrics across all classes. The \"weighted avg\" row shows the weighted average of the evaluation metrics across all classes, weighted by the support for each class.\n",
    "\n",
    "These results suggest that the decision tree model may be overfitting the training data set, as the accuracy and the evaluation metrics are perfect for all classes. This means that the model may not generalize well to new data sets, and its performance on the test data set may be worse than on the training data set. It is important to evaluate the performance of the model on a separate test data set to confirm whether the model is overfitting or not."
   ]
  },
  {
   "cell_type": "code",
   "execution_count": 42,
   "id": "f91e884b",
   "metadata": {},
   "outputs": [
    {
     "data": {
      "text/plain": [
       "array([[ 0,  0,  0,  1,  0,  0],\n",
       "       [ 0,  1,  6,  3,  0,  0],\n",
       "       [ 1,  5, 90, 33,  1,  0],\n",
       "       [ 0,  3, 38, 72, 18,  1],\n",
       "       [ 0,  0,  2, 16, 21,  3],\n",
       "       [ 0,  0,  1,  1,  2,  1]])"
      ]
     },
     "execution_count": 42,
     "metadata": {},
     "output_type": "execute_result"
    }
   ],
   "source": [
    "confusion_matrix(y_test, y_test_pred)"
   ]
  },
  {
   "cell_type": "markdown",
   "id": "1cc0bf22",
   "metadata": {},
   "source": [
    "This is the confusion matrix for the decision tree model on the test data set. The confusion matrix is a table that shows the number of true positives (TP), false positives (FP), true negatives (TN), and false negatives (FN) for each class in the output variable.\n",
    "\n",
    "The rows represent the actual class, while the columns represent the predicted class. For example, the element in row 1 and column 4 (i.e., confusion_matrix[0, 3]) indicates the number of samples that belong to class \"3\" in the true data set but were predicted to belong to class \"6\" by the model.\n",
    "\n",
    "The diagonal elements of the confusion matrix represent the number of correctly predicted samples for each class. For example, the element in row 4 and column 4 (i.e., confusion_matrix[3, 3]) indicates that the model correctly predicted the class of 72 samples that belong to class \"6\".\n",
    "\n",
    "From the confusion matrix, we can see that the model performs poorly for some classes, such as the \"3\" and \"4\" classes, which have zero true positives. The model also has a relatively high number of false positives for some classes, such as the \"5\" and \"6\" classes. This suggests that the model may need further refinement or tuning to improve its performance."
   ]
  },
  {
   "cell_type": "code",
   "execution_count": 45,
   "id": "c3334596",
   "metadata": {},
   "outputs": [
    {
     "data": {
      "text/plain": [
       "array([[  9,   0,   0,   0,   0,   0],\n",
       "       [  0,  43,   0,   0,   0,   0],\n",
       "       [  0,   0, 551,   0,   0,   0],\n",
       "       [  0,   0,   0, 506,   0,   0],\n",
       "       [  0,   0,   0,   0, 157,   0],\n",
       "       [  0,   0,   0,   0,   0,  13]])"
      ]
     },
     "execution_count": 45,
     "metadata": {},
     "output_type": "execute_result"
    }
   ],
   "source": [
    "confusion_matrix(y_train, y_train_pred)"
   ]
  },
  {
   "cell_type": "markdown",
   "id": "c84ed9b5",
   "metadata": {},
   "source": [
    "This is the confusion matrix for the decision tree model on the test data set. The confusion matrix is a table that shows the number of true positives (TP), false positives (FP), true negatives (TN), and false negatives (FN) for each class in the output variable.\n",
    "\n",
    "The rows represent the actual class, while the columns represent the predicted class. For example, the element in row 1 and column 4 (i.e., confusion_matrix[0, 3]) indicates the number of samples that belong to class \"3\" in the true data set but were predicted to belong to class \"6\" by the model.\n",
    "\n",
    "The diagonal elements of the confusion matrix represent the number of correctly predicted samples for each class. For example, the element in row 4 and column 4 (i.e., confusion_matrix[3, 3]) indicates that the model correctly predicted the class of 72 samples that belong to class \"6\".\n",
    "\n",
    "From the confusion matrix, we can see that the model performs poorly for some classes, such as the \"3\" and \"4\" classes, which have zero true positives. The model also has a relatively high number of false positives for some classes, such as the \"5\" and \"6\" classes. This suggests that the model may need further refinement or tuning to improve its performance."
   ]
  },
  {
   "cell_type": "code",
   "execution_count": 46,
   "id": "0f37a577",
   "metadata": {},
   "outputs": [
    {
     "data": {
      "text/plain": [
       "array([[ 0,  0,  0,  1,  0,  0],\n",
       "       [ 0,  1,  6,  3,  0,  0],\n",
       "       [ 1,  5, 90, 33,  1,  0],\n",
       "       [ 0,  3, 38, 72, 18,  1],\n",
       "       [ 0,  0,  2, 16, 21,  3],\n",
       "       [ 0,  0,  1,  1,  2,  1]])"
      ]
     },
     "execution_count": 46,
     "metadata": {},
     "output_type": "execute_result"
    }
   ],
   "source": [
    "confusion_matrix(y_test, y_test_pred)"
   ]
  },
  {
   "cell_type": "code",
   "execution_count": 49,
   "id": "90cf21b2",
   "metadata": {},
   "outputs": [
    {
     "name": "stdout",
     "output_type": "stream",
     "text": [
      "The precision score for the test data is:  0.3399123315181709\n",
      "The precision score for the train data is:  1.0\n"
     ]
    }
   ],
   "source": [
    "#generate the precision score using precision_score()\n",
    "\n",
    "precision_score_test = precision_score(y_test, y_test_pred, average='macro')\n",
    "precision_score_train = precision_score(y_train, y_train_pred, average='macro')\n",
    "\n",
    "print(\"The precision score for the test data is: \", precision_score_test)\n",
    "print(\"The precision score for the train data is: \", precision_score_train)\n"
   ]
  },
  {
   "cell_type": "markdown",
   "id": "7fa658f3",
   "metadata": {},
   "source": [
    "Precision score measures the ratio of true positives to the total predicted positives. A precision score of 1 means that all the predicted positives are true positives, while a precision score of 0 means that none of the predicted positives are true positives.\n",
    "\n",
    "In this case, a precision score of 0.3399 for the test data means that out of all the positive predictions made by the model, only 33.99% were actually true positives. This is not a very good score, and indicates that the model may be overfitting the data.\n",
    "\n",
    "The precision score of 1 for the training data means that the model has perfectly fit the training data, which is not surprising since this is the data the model was trained on. However, it is important to ensure that the model also performs well on new, unseen data, as indicated by the test precision score."
   ]
  },
  {
   "cell_type": "code",
   "execution_count": 54,
   "id": "b47daa33",
   "metadata": {},
   "outputs": [
    {
     "name": "stdout",
     "output_type": "stream",
     "text": [
      "The test recall score is:  0.3396270396270396\n",
      "The train recall score is:  1.0\n"
     ]
    }
   ],
   "source": [
    "test_recall_score = recall_score(y_test, y_test_pred, average='macro')\n",
    "train_recall_score =recall_score(y_train, y_train_pred, average='macro')\n",
    "print(\"The test recall score is: \", test_recall_score)\n",
    "print(\"The train recall score is: \", train_recall_score)"
   ]
  },
  {
   "cell_type": "markdown",
   "id": "6729f2f5",
   "metadata": {},
   "source": [
    "The recall score is a metric that measures the ability of the model to correctly identify instances of a particular class. In a multi-class classification problem, the recall score is computed for each class, and represents the proportion of actual positive instances for that class that are correctly identified as positive by the model.\n",
    "\n",
    "A recall score of 0.339627 for the test data set indicates that the model is able to correctly identify only about 34% of the actual positive instances in the test data set, on average, across all classes. This suggests that the model is not performing well in identifying instances of the positive class, and may be biased towards the negative class.\n",
    "\n",
    "On the other hand, a recall score of 1.0 for the training data set indicates that the model is able to correctly identify all instances of the positive class in the training data set. This suggests that the model may be overfitting the training data and may not generalize well to new, unseen data.\n",
    "\n",
    "Overall, these scores suggest that the decision tree model may not be the best algorithm for predicting the wine quality based on the given features, and that additional data exploration and feature engineering may be necessary to improve the model's performance."
   ]
  },
  {
   "cell_type": "code",
   "execution_count": 56,
   "id": "40b10a72",
   "metadata": {},
   "outputs": [
    {
     "name": "stdout",
     "output_type": "stream",
     "text": [
      "Test F1 score : 0.33959333269154074\n",
      "Train F1 score: 1.0\n"
     ]
    }
   ],
   "source": [
    "f1_test = f1_score(y_test, y_test_pred, average = 'macro')\n",
    "print(\"Test F1 score :\", f1_test)\n",
    "f1_train = f1_score(y_train, y_train_pred, average = 'macro')\n",
    "print(\"Train F1 score:\", f1_train)"
   ]
  },
  {
   "cell_type": "markdown",
   "id": "da3965b8",
   "metadata": {},
   "source": [
    "In general, it's best to use the F1 score when you care about a balanced evaluation of precision\n",
    "and recall, and to use precision or recall alone when you care more about one metric than the\n",
    "other. Accuracy can still be used as a baseline comparison, but it should not be relied upon as\n",
    "the sole evaluation metric when the classes are imbalanced or when the cost of false positive\n",
    "and false negative predictions is not equal."
   ]
  },
  {
   "cell_type": "code",
   "execution_count": 57,
   "id": "c5145d8a",
   "metadata": {},
   "outputs": [
    {
     "name": "stdout",
     "output_type": "stream",
     "text": [
      "Maximum depth of the decision tree: 17\n",
      "Optimal max depth: 10\n"
     ]
    }
   ],
   "source": [
    "max_depth = dt.tree_.max_depth\n",
    "print(\"Maximum depth of the decision tree:\", max_depth)\n",
    "\n",
    "\n",
    "depths = [1, 2, 3, 4, 5, 6, 7, 8, 9, 10]\n",
    "error_rates = []\n",
    "for depth in depths:\n",
    "    tree = DecisionTreeClassifier(max_depth=depth)\n",
    "    tree.fit(X_train, y_train)\n",
    "    y_test_pred = tree.predict(X_test)\n",
    "    accuracy = accuracy_score(y_test, y_test_pred)\n",
    "    error_rate = 1 - accuracy\n",
    "    error_rates.append(error_rate)\n",
    "min_index = error_rates.index(min(error_rates))\n",
    "print(\"Optimal max depth:\", depths[min_index])"
   ]
  },
  {
   "cell_type": "code",
   "execution_count": null,
   "id": "ff378477",
   "metadata": {},
   "outputs": [],
   "source": []
  },
  {
   "cell_type": "code",
   "execution_count": 79,
   "id": "4f2b2406",
   "metadata": {
    "scrolled": true
   },
   "outputs": [
    {
     "name": "stdout",
     "output_type": "stream",
     "text": [
      "Best parameters:  {'criterion': 'entropy', 'max_depth': 5, 'min_samples_leaf': 4, 'min_samples_split': 2, 'splitter': 'best'}\n",
      "Tuned Decision TreeTrain Accuracy: 0.8326817826426895\n",
      "Tuned Decision Tree Test Accuracy: 0.6\n",
      "Tuned Decision Tree Classification Report:\n",
      "               precision    recall  f1-score   support\n",
      "\n",
      "           3       0.00      0.00      0.00         1\n",
      "           4       0.08      0.10      0.09        10\n",
      "           5       0.68      0.71      0.69       130\n",
      "           6       0.60      0.60      0.60       132\n",
      "           7       0.53      0.48      0.50        42\n",
      "           8       0.00      0.00      0.00         5\n",
      "\n",
      "    accuracy                           0.60       320\n",
      "   macro avg       0.31      0.31      0.31       320\n",
      "weighted avg       0.59      0.60      0.60       320\n",
      "\n",
      "Tuned Decision Tree Confusion Matrix:\n",
      " [[ 0  0  1  0  0  0]\n",
      " [ 0  1  5  4  0  0]\n",
      " [ 0  7 92 30  1  0]\n",
      " [ 0  4 33 79 15  1]\n",
      " [ 0  1  5 16 20  0]\n",
      " [ 0  0  0  3  2  0]]\n",
      "Train Error: 0.16731821735731045\n",
      "Test Error: 0.4\n"
     ]
    },
    {
     "name": "stderr",
     "output_type": "stream",
     "text": [
      "/Users/kaylakight/opt/anaconda3/lib/python3.9/site-packages/sklearn/metrics/_classification.py:1248: UndefinedMetricWarning: Precision and F-score are ill-defined and being set to 0.0 in labels with no predicted samples. Use `zero_division` parameter to control this behavior.\n",
      "  _warn_prf(average, modifier, msg_start, len(result))\n",
      "/Users/kaylakight/opt/anaconda3/lib/python3.9/site-packages/sklearn/metrics/_classification.py:1248: UndefinedMetricWarning: Precision and F-score are ill-defined and being set to 0.0 in labels with no predicted samples. Use `zero_division` parameter to control this behavior.\n",
      "  _warn_prf(average, modifier, msg_start, len(result))\n",
      "/Users/kaylakight/opt/anaconda3/lib/python3.9/site-packages/sklearn/metrics/_classification.py:1248: UndefinedMetricWarning: Precision and F-score are ill-defined and being set to 0.0 in labels with no predicted samples. Use `zero_division` parameter to control this behavior.\n",
      "  _warn_prf(average, modifier, msg_start, len(result))\n"
     ]
    }
   ],
   "source": [
    "tree = DecisionTreeClassifier(max_depth=10, random_state=42)\n",
    "\n",
    "# define the parameter values that should be searched\n",
    "param_grid = {'criterion': ['gini', 'entropy'],\n",
    "              'splitter': ['best', 'random'],\n",
    "              'max_depth': [3, 5, 7, 10, 13, 17],\n",
    "              'min_samples_split': [2, 5, 10, 20],\n",
    "              'min_samples_leaf': [1, 2, 4, 8]}\n",
    "\n",
    "# create a GridSearchCV object\n",
    "grid_search = GridSearchCV(tree, param_grid=param_grid, cv=5, scoring='accuracy')\n",
    "\n",
    "# fit the GridSearchCV object to the data\n",
    "grid_search.fit(X_train, y_train)\n",
    "\n",
    "# print the best hyperparameters\n",
    "print(\"Best parameters: \", grid_search.best_params_)\n",
    "\n",
    "# use the best hyperparameters to create the final decision tree model\n",
    "tree_final = DecisionTreeClassifier(criterion=grid_search.best_params_['criterion'],\n",
    "                                     splitter=grid_search.best_params_['splitter'],\n",
    "                                     max_depth=10,\n",
    "                                     min_samples_split=grid_search.best_params_['min_samples_split'],\n",
    "                                     min_samples_leaf=grid_search.best_params_['min_samples_leaf'],\n",
    "                                     random_state=42)\n",
    "\n",
    "# train the final decision tree model on the entire training set\n",
    "tree_final.fit(X_train, y_train)\n",
    "\n",
    "# calculate accuracy training set\n",
    "y_train_pred = tree_final.predict(X_train)\n",
    "train_accuracy = accuracy_score(y_train, y_train_pred)\n",
    "print(\"Tuned Decision TreeTrain Accuracy:\", train_accuracy)\n",
    "\n",
    "# calculate accuracy on the test set\n",
    "y_test_pred = tree_final.predict(X_test)\n",
    "test_accuracy = accuracy_score(y_test, y_test_pred)\n",
    "print(\"Tuned Decision Tree Test Accuracy:\", test_accuracy)\n",
    "\n",
    "# calculate and print the classification report\n",
    "print(\"Tuned Decision Tree Classification Report:\\n\", classification_report(y_test, y_test_pred))\n",
    "\n",
    "# calculate and print the confusion matrix\n",
    "print(\"Tuned Decision Tree Confusion Matrix:\\n\", confusion_matrix(y_test, y_test_pred))\n",
    "\n",
    "# calculate and print the train and test error\n",
    "train_error = zero_one_loss(y_train, y_train_pred)\n",
    "print(\"Train Error:\", train_error)\n",
    "test_error = zero_one_loss(y_test, y_test_pred)\n",
    "print(\"Test Error:\", test_error)"
   ]
  },
  {
   "cell_type": "code",
   "execution_count": 63,
   "id": "75e1a36a",
   "metadata": {},
   "outputs": [],
   "source": []
  },
  {
   "cell_type": "markdown",
   "id": "b982e32d",
   "metadata": {},
   "source": [
    "Now let's do a similar process with the KNN Classifier"
   ]
  },
  {
   "cell_type": "code",
   "execution_count": 80,
   "id": "3f0291e9",
   "metadata": {},
   "outputs": [
    {
     "name": "stdout",
     "output_type": "stream",
     "text": [
      "Tuned KNN Training accuracy: 0.7216575449569976\n",
      "Tuned KNN Test accuracy: 0.53125\n",
      "Tuned KNN Classification report for train data:\n",
      "              precision    recall  f1-score   support\n",
      "\n",
      "           3       0.50      0.22      0.31         9\n",
      "           4       0.29      0.05      0.08        43\n",
      "           5       0.74      0.83      0.78       551\n",
      "           6       0.70      0.74      0.72       506\n",
      "           7       0.74      0.56      0.64       157\n",
      "           8       0.00      0.00      0.00        13\n",
      "\n",
      "    accuracy                           0.72      1279\n",
      "   macro avg       0.49      0.40      0.42      1279\n",
      "weighted avg       0.70      0.72      0.71      1279\n",
      "\n",
      "Tuned KNN Classification report for test data:\n",
      "              precision    recall  f1-score   support\n",
      "\n",
      "           3       0.00      0.00      0.00         1\n",
      "           4       0.00      0.00      0.00        10\n",
      "           5       0.58      0.68      0.63       130\n",
      "           6       0.49      0.49      0.49       132\n",
      "           7       0.52      0.38      0.44        42\n",
      "           8       0.00      0.00      0.00         5\n",
      "\n",
      "    accuracy                           0.53       320\n",
      "   macro avg       0.26      0.26      0.26       320\n",
      "weighted avg       0.51      0.53      0.52       320\n",
      "\n",
      "Confusion matrix for test data:\n",
      "[[ 0  0  0  1  0  0]\n",
      " [ 0  0  5  5  0  0]\n",
      " [ 0  2 89 39  0  0]\n",
      " [ 0  1 55 65 11  0]\n",
      " [ 0  0  5 21 16  0]\n",
      " [ 0  0  0  1  4  0]]\n"
     ]
    },
    {
     "name": "stderr",
     "output_type": "stream",
     "text": [
      "/Users/kaylakight/opt/anaconda3/lib/python3.9/site-packages/sklearn/metrics/_classification.py:1248: UndefinedMetricWarning: Precision and F-score are ill-defined and being set to 0.0 in labels with no predicted samples. Use `zero_division` parameter to control this behavior.\n",
      "  _warn_prf(average, modifier, msg_start, len(result))\n",
      "/Users/kaylakight/opt/anaconda3/lib/python3.9/site-packages/sklearn/metrics/_classification.py:1248: UndefinedMetricWarning: Precision and F-score are ill-defined and being set to 0.0 in labels with no predicted samples. Use `zero_division` parameter to control this behavior.\n",
      "  _warn_prf(average, modifier, msg_start, len(result))\n",
      "/Users/kaylakight/opt/anaconda3/lib/python3.9/site-packages/sklearn/metrics/_classification.py:1248: UndefinedMetricWarning: Precision and F-score are ill-defined and being set to 0.0 in labels with no predicted samples. Use `zero_division` parameter to control this behavior.\n",
      "  _warn_prf(average, modifier, msg_start, len(result))\n",
      "/Users/kaylakight/opt/anaconda3/lib/python3.9/site-packages/sklearn/metrics/_classification.py:1248: UndefinedMetricWarning: Precision and F-score are ill-defined and being set to 0.0 in labels with no predicted samples. Use `zero_division` parameter to control this behavior.\n",
      "  _warn_prf(average, modifier, msg_start, len(result))\n",
      "/Users/kaylakight/opt/anaconda3/lib/python3.9/site-packages/sklearn/metrics/_classification.py:1248: UndefinedMetricWarning: Precision and F-score are ill-defined and being set to 0.0 in labels with no predicted samples. Use `zero_division` parameter to control this behavior.\n",
      "  _warn_prf(average, modifier, msg_start, len(result))\n",
      "/Users/kaylakight/opt/anaconda3/lib/python3.9/site-packages/sklearn/metrics/_classification.py:1248: UndefinedMetricWarning: Precision and F-score are ill-defined and being set to 0.0 in labels with no predicted samples. Use `zero_division` parameter to control this behavior.\n",
      "  _warn_prf(average, modifier, msg_start, len(result))\n"
     ]
    }
   ],
   "source": [
    "# Create a KNN classifier object\n",
    "knn = KNeighborsClassifier()\n",
    "\n",
    "# Train the model on the training data\n",
    "knn.fit(X_train, y_train)\n",
    "\n",
    "# Use the trained model to predict on the test data\n",
    "y_test_pred = knn.predict(X_test)\n",
    "y_train_pred = knn.predict(X_train)\n",
    "\n",
    "# Evaluate the model's accuracy on the training and test data\n",
    "train_accuracy = accuracy_score(y_train, y_train_pred)\n",
    "test_accuracy = accuracy_score(y_test, y_test_pred)\n",
    "\n",
    "print(\"Tuned KNN Training accuracy:\", train_accuracy)\n",
    "print(\"Tuned KNN Test accuracy:\", test_accuracy)\n",
    "\n",
    "# Generate a classification report for the test data\n",
    "print(\"Tuned KNN Classification report for train data:\")\n",
    "print(classification_report(y_train, y_train_pred))\n",
    "print(\"Tuned KNN Classification report for test data:\")\n",
    "print(classification_report(y_test, y_test_pred))\n",
    "\n",
    "\n",
    "\n",
    "# Generate a confusion matrix for the test data\n",
    "print(\"Confusion matrix for test data:\")\n",
    "print(confusion_matrix(y_test, y_test_pred))"
   ]
  },
  {
   "cell_type": "markdown",
   "id": "8c613ae3",
   "metadata": {},
   "source": [
    "The K-Nearest Neighbor model achieved a training accuracy of 0.7217 and a test accuracy of 0.5313, indicating that the model is overfitting the training data and performing poorly on the test data. The classification report and confusion matrix show that the model is struggling to accurately predict the wine quality for each class, with low precision and recall scores for several classes. The low scores suggest that the model is not well-suited for this particular dataset and may require further tuning or a different algorithm altogether to improve its performance."
   ]
  },
  {
   "cell_type": "code",
   "execution_count": 70,
   "id": "830e1b6a",
   "metadata": {},
   "outputs": [
    {
     "data": {
      "text/plain": [
       "0.60625"
      ]
     },
     "execution_count": 70,
     "metadata": {},
     "output_type": "execute_result"
    }
   ],
   "source": [
    "def mse(y_true, y_pred):\n",
    "    return np.mean((y_true - y_pred)**2)\n",
    "\n",
    "mse(y_test, y_test_pred)"
   ]
  },
  {
   "cell_type": "code",
   "execution_count": 72,
   "id": "cd3e412b",
   "metadata": {},
   "outputs": [
    {
     "name": "stdout",
     "output_type": "stream",
     "text": [
      "Best hyperparameters:  {'n_neighbors': 11, 'p': 3, 'weights': 'distance'}\n",
      "Best test score:  0.6482107843137255\n"
     ]
    }
   ],
   "source": [
    "# define the parameter grid to search over\n",
    "param_grid = {\n",
    "    'n_neighbors': [3, 5, 7, 9, 11],\n",
    "    'weights': ['uniform', 'distance'],\n",
    "    'p': [1, 2, 3]\n",
    "}\n",
    "\n",
    "# create a KNN classifier object\n",
    "knn = KNeighborsClassifier()\n",
    "\n",
    "# create a GridSearchCV object\n",
    "grid_search = GridSearchCV(knn, param_grid, cv=5, scoring='accuracy')\n",
    "\n",
    "# fit the GridSearchCV object to the data\n",
    "grid_search.fit(X_train, y_train)\n",
    "\n",
    "# print the best hyperparameters and the corresponding mean test score\n",
    "print(\"Best hyperparameters: \", grid_search.best_params_)\n",
    "print(\"Best test score: \", grid_search.best_score_)"
   ]
  },
  {
   "cell_type": "markdown",
   "id": "32ed4b78",
   "metadata": {},
   "source": [
    "The best hyperparameters for the KNN model are 'n_neighbors': 11, 'p': 3, 'weights': 'distance'. This means that the model was able to achieve the best performance on the test data when it used 11 neighbors, used the Euclidean distance metric with a power of 3, and used the distance-weighted approach for predictions.\n",
    "\n",
    "The best test score achieved by this model is 0.6482107843137255, which is the highest accuracy score achieved by the model on the test data after hyperparameter tuning. This means that the model is able to correctly predict the wine quality for approximately 65% of the test instances."
   ]
  },
  {
   "cell_type": "code",
   "execution_count": 82,
   "id": "486ef8c5",
   "metadata": {},
   "outputs": [
    {
     "name": "stdout",
     "output_type": "stream",
     "text": [
      "Tuned KNN Train Accuracy: 1.0\n",
      "Tuned KNN Test Accuracy: 0.684375\n",
      "Tuned KNN Classification Report for test data:\n",
      "               precision    recall  f1-score   support\n",
      "\n",
      "           3       0.00      0.00      0.00         1\n",
      "           4       0.00      0.00      0.00        10\n",
      "           5       0.72      0.78      0.75       130\n",
      "           6       0.66      0.68      0.67       132\n",
      "           7       0.66      0.64      0.65        42\n",
      "           8       0.00      0.00      0.00         5\n",
      "\n",
      "    accuracy                           0.68       320\n",
      "   macro avg       0.34      0.35      0.35       320\n",
      "weighted avg       0.65      0.68      0.67       320\n",
      "\n",
      "Tuned KNN Classification Report for train data:\n",
      "               precision    recall  f1-score   support\n",
      "\n",
      "           3       1.00      1.00      1.00         9\n",
      "           4       1.00      1.00      1.00        43\n",
      "           5       1.00      1.00      1.00       551\n",
      "           6       1.00      1.00      1.00       506\n",
      "           7       1.00      1.00      1.00       157\n",
      "           8       1.00      1.00      1.00        13\n",
      "\n",
      "    accuracy                           1.00      1279\n",
      "   macro avg       1.00      1.00      1.00      1279\n",
      "weighted avg       1.00      1.00      1.00      1279\n",
      "\n"
     ]
    },
    {
     "name": "stderr",
     "output_type": "stream",
     "text": [
      "/Users/kaylakight/opt/anaconda3/lib/python3.9/site-packages/sklearn/metrics/_classification.py:1248: UndefinedMetricWarning: Precision and F-score are ill-defined and being set to 0.0 in labels with no predicted samples. Use `zero_division` parameter to control this behavior.\n",
      "  _warn_prf(average, modifier, msg_start, len(result))\n",
      "/Users/kaylakight/opt/anaconda3/lib/python3.9/site-packages/sklearn/metrics/_classification.py:1248: UndefinedMetricWarning: Precision and F-score are ill-defined and being set to 0.0 in labels with no predicted samples. Use `zero_division` parameter to control this behavior.\n",
      "  _warn_prf(average, modifier, msg_start, len(result))\n",
      "/Users/kaylakight/opt/anaconda3/lib/python3.9/site-packages/sklearn/metrics/_classification.py:1248: UndefinedMetricWarning: Precision and F-score are ill-defined and being set to 0.0 in labels with no predicted samples. Use `zero_division` parameter to control this behavior.\n",
      "  _warn_prf(average, modifier, msg_start, len(result))\n"
     ]
    }
   ],
   "source": [
    "# create a KNN classifier object with the best hyperparameters\n",
    "knn_final = KNeighborsClassifier(n_neighbors=11, p=3, weights='distance')\n",
    "\n",
    "# train the KNN model on the entire training set\n",
    "knn_final.fit(X_train, y_train)\n",
    "\n",
    "# calculate accuracy training set\n",
    "y_train_pred = knn_final.predict(X_train)\n",
    "train_accuracy = accuracy_score(y_train, y_train_pred)\n",
    "print(\"Tuned KNN Train Accuracy:\", train_accuracy)\n",
    "\n",
    "# calculate accuracy on the test set\n",
    "y_test_pred = knn_final.predict(X_test)\n",
    "test_accuracy = accuracy_score(y_test, y_test_pred)\n",
    "print(\"Tuned KNN Test Accuracy:\", test_accuracy)\n",
    "\n",
    "# calculate and print the classification report\n",
    "print(\"Tuned KNN Classification Report for test data:\\n\", classification_report(y_test, y_test_pred))\n",
    "print(\"Tuned KNN Classification Report for train data:\\n\", classification_report(y_train, y_train_pred))\n"
   ]
  },
  {
   "cell_type": "code",
   "execution_count": null,
   "id": "1d3ecb58",
   "metadata": {},
   "outputs": [],
   "source": []
  }
 ],
 "metadata": {
  "kernelspec": {
   "display_name": "Python 3 (ipykernel)",
   "language": "python",
   "name": "python3"
  },
  "language_info": {
   "codemirror_mode": {
    "name": "ipython",
    "version": 3
   },
   "file_extension": ".py",
   "mimetype": "text/x-python",
   "name": "python",
   "nbconvert_exporter": "python",
   "pygments_lexer": "ipython3",
   "version": "3.9.13"
  }
 },
 "nbformat": 4,
 "nbformat_minor": 5
}
